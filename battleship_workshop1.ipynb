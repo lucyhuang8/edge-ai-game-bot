{
 "cells": [
  {
   "cell_type": "markdown",
   "id": "33bad10f",
   "metadata": {},
   "source": [
    "# Batthleship AI GameBot Workshop #1"
   ]
  },
  {
   "cell_type": "markdown",
   "id": "810d1218",
   "metadata": {},
   "source": [
    "### What is a library?\n",
    "\n",
    "A library is a collection of pre-written code that can be imported into a workspace that has functions and classes that we can use to perform specific operations. In the data science workshop, we imported the NumPy library to perform arithmetic operations on arrays and the Pandas library to import and work with large datasets.\n",
    "\n",
    "In the workshop today we will import the \"random\" and \"pygame\" libraries. They each provide specific functions and classes to help us build our gamebot:\n",
    "\n",
    "random: functions and classes to generate psuedo-random numbers and make random selections <br>\n",
    "pygame: functions and classes to create and render graphics, sounds, and user input for 2D games"
   ]
  },
  {
   "cell_type": "code",
   "execution_count": 30,
   "id": "cde34794",
   "metadata": {},
   "outputs": [
    {
     "name": "stdout",
     "output_type": "stream",
     "text": [
      "Defaulting to user installation because normal site-packages is not writeable\n",
      "Requirement already satisfied: pygame in c:\\users\\temp.ad.003\\appdata\\roaming\\python\\python312\\site-packages (2.6.1)\n",
      "Note: you may need to restart the kernel to use updated packages.\n"
     ]
    }
   ],
   "source": [
    "pip install pygame"
   ]
  },
  {
   "cell_type": "code",
   "execution_count": 31,
   "id": "6e775c06-d25b-4ed1-bec7-d290f9215f46",
   "metadata": {
    "tags": []
   },
   "outputs": [],
   "source": [
    "# code to import libraries\n",
    "import random\n",
    "import pygame"
   ]
  },
  {
   "cell_type": "markdown",
   "id": "90b3cf30-877f-4d65-aecd-7cea849958a6",
   "metadata": {},
   "source": [
    "## Pygame Initialization and Global Variables\n",
    "\n",
    "In this section, we will initialize Pygame and define the essential global variables and constants that will control the game's display, visual elements, and gameplay settings. This setup includes configuring the screen dimensions, colors, grid sizes, and other parameters that define the look and feel of the game.\n",
    "\n"
   ]
  },
  {
   "cell_type": "code",
   "execution_count": 32,
   "id": "6bf20767",
   "metadata": {},
   "outputs": [],
   "source": [
    "# Pygame initialization\n",
    "pygame.init()\n",
    "pygame.display.set_caption(\"Battleship\")"
   ]
  },
  {
   "cell_type": "markdown",
   "id": "e94303f2",
   "metadata": {},
   "source": [
    "### What is a global variable?\n",
    "\n",
    "A global variable is a variable declared outside of any functions so that it can be accessed or modified at any part of the program--its scope is global.\n",
    "\n",
    "In the next step we are going to define several **global constant variables** which we will define to create our display window where we will see our game rendered. A global constant variable after being defined is not modified, thus it is constant. We write global constant variable names in all caps. Take two-three minutes to think of what variables we will need for our game display window."
   ]
  },
  {
   "cell_type": "code",
   "execution_count": 33,
   "id": "51215f1e-8a68-4560-abcf-f64fb7110e0b",
   "metadata": {
    "tags": []
   },
   "outputs": [],
   "source": [
    "# Global variables\n",
    "SQ_SIZE = 40\n",
    "H_MARGIN = SQ_SIZE * 4\n",
    "V_MARGIN = SQ_SIZE\n",
    "WIDTH = SQ_SIZE * 10 * 2 + H_MARGIN\n",
    "HEIGHT = SQ_SIZE * 10 * 2 + V_MARGIN\n",
    "INDENT = 5"
   ]
  },
  {
   "cell_type": "markdown",
   "id": "704fbc56",
   "metadata": {},
   "source": [
    "### Colors: RGB Values\n",
    "\n",
    "We next create global variables for colors for different elements of our game and the display. Take a couple minutes to read [this article](https://www.w3schools.com/html/html_colors_rgb.asp) about we specify colors using RGB values, and then fill in the values for color variables below."
   ]
  },
  {
   "cell_type": "code",
   "execution_count": 34,
   "id": "51f0e228",
   "metadata": {},
   "outputs": [],
   "source": [
    "# Colors\n",
    "GREY = (170, 170, 170)  # RGB value for the background color\n",
    "WHITE = (255, 255, 255)  # RGB value for the white color\n",
    "GREEN = (131, 228, 94)  # RGB value for the green color (possibly for highlighting or other elements)\n",
    "BLUE = (51, 164, 255)  # RGB value for the blue color (for misses)\n",
    "RED = (196, 30, 58)  # RGB value for the red color (for sunk ships or hits)\n",
    "PINK = (233, 158, 193)  # RGB value for the pink color (for hits)"
   ]
  },
  {
   "cell_type": "markdown",
   "id": "4102b156",
   "metadata": {},
   "source": [
    "### Creating a Mapping for Different Game States\n",
    "\n",
    "We will use a dictionary to create a mapping of the different game states (background, miss, hit, sink) on our display using our color variables that we just defined. Take a couple minutes to read about how [dictionaries](https://www.w3schools.com/python/python_dictionaries.asp) function and see if you can map to the four different states we would have."
   ]
  },
  {
   "cell_type": "code",
   "execution_count": 35,
   "id": "f01c7819",
   "metadata": {},
   "outputs": [],
   "source": [
    "# Color mapping for game states\n",
    "COLORS = {\"U\":GREY, \"M\":BLUE, \"H\":PINK, \"S\": RED}"
   ]
  },
  {
   "cell_type": "markdown",
   "id": "f846e804",
   "metadata": {},
   "source": [
    "### Initialize Pygame Screen\n",
    "\n",
    "Finally, let's create a `SCREEN` variable using the pygame `display.set_mode` function. Look at the documentation for this function and see if you can figure out what variables we previously defined to pass in to the function as parameters.\n",
    "\n",
    "Hint: You only need to fill in the `size` parameter."
   ]
  },
  {
   "cell_type": "code",
   "execution_count": 36,
   "id": "34cc0bd8",
   "metadata": {},
   "outputs": [],
   "source": [
    "# Initialize the Pygame screen\n",
    "SCREEN = pygame.display.set_mode((WIDTH, HEIGHT))"
   ]
  },
  {
   "cell_type": "markdown",
   "id": "f576acb0-75fc-49b6-aa62-520797dcd652",
   "metadata": {},
   "source": [
    "## Drawing the Game Grids\n",
    "\n",
    "In this section, we will draw the game grids for both the player and the opponent. The game board is made up of two 10x10 grids, each represented by a series of rectangles. These grids serve as the interface where players can interact and track their progress.\n",
    "\n",
    "When the `search` flag is enabled, additional feedback will be shown on the grids, such as indicating where hits or misses have occurred. This visual feedback helps players track their moves and make strategic decisions throughout the game.\n",
    "\n",
    "\n"
   ]
  },
  {
   "cell_type": "markdown",
   "id": "bd45f011",
   "metadata": {},
   "source": [
    "### What is a function?\n",
    "\n",
    "A function is a block of code designed to perform a specific task. In python, we create a function using the keyword `def`, followed by the function name, parentheses, and a colon. Within our parantheses, we can specify arguments that need to be passed in when the function is called, and we can also set default parameters, so if the function is called and parameters aren't passed in, there are values for the function to default to.\n",
    "\n",
    "To call a function, we simply write the function name with parantheses and pass in any arguments that may be needed.\n"
   ]
  },
  {
   "cell_type": "code",
   "execution_count": 37,
   "id": "39a4152a-8630-4021-880f-bc0b3fd2dc1f",
   "metadata": {
    "tags": []
   },
   "outputs": [],
   "source": [
    "def draw_grid(player, left=0, top=0, search=False):\n",
    "    \"\"\"\n",
    "    This function draws the grid for our battleship board.\n",
    "    \"\"\"\n",
    "    for i in range(100):  # Loop through each of the 100 grid squares\n",
    "        # Column that we are in (horizontal position)\n",
    "        x = left + i % 10 * SQ_SIZE # Calculate the x position based on the column index\n",
    "        # Row that we are in (vertical position)\n",
    "        y = top + i // 10 * SQ_SIZE # Calculate the y position based on the row index\n",
    "        \n",
    "        square = pygame.Rect(x, y, SQ_SIZE, SQ_SIZE)  # Create a rectangle for the square\n",
    "        pygame.draw.rect(SCREEN, WHITE, square, width=3)  # Draw the grid square\n",
    "        \n",
    "        if search:  # If the search flag is enabled\n",
    "            x += SQ_SIZE // 2  # Adjust x position for the circle (centered in the square)\n",
    "            y += SQ_SIZE // 2  # Adjust y position for the circle (centered in the square)\n",
    "            \n",
    "            pygame.draw.circle(SCREEN, COLORS[player.search[i]], (x, y), radius=(SQ_SIZE // 4)) # Draw a circle for the hit/miss indicator"
   ]
  },
  {
   "cell_type": "markdown",
   "id": "52019949-8b6a-4f1c-b8bc-9de4a7e14783",
   "metadata": {
    "tags": []
   },
   "source": [
    "## Creating our ships\n",
    "\n",
    "We’ll begin by creating the game board and ships. Each ship will have a random position and orientation on the grid. Then, we will code the gameplay mechanics, allowing players to take turns guessing and trying to sink each other's ships.\n",
    "\n",
    "Ready to get started? Let’s dive into the code and start building our Battleship game!\n",
    "\n",
    "Before diving into the full game, we will first look into how we can model a **ship** in our game. A ship in the Battleship game has several important features:\n",
    "\n",
    "- **Size**: How many spaces the ship occupies on the grid.\n",
    "- **Position**: The starting position of the ship, which will be randomly selected on the grid.\n",
    "- **Orientation**: Whether the ship is placed horizontally (across rows) or vertically (across columns).\n",
    "- **Indexes**: The list of grid positions that the ship occupies.\n",
    "\n",
    "We will create a **Ship class** to define these properties. The class will include methods to randomly place the ship on the grid, taking into account its size and orientation. Understanding this class will help us in creating and managing ships during the game."
   ]
  },
  {
   "cell_type": "code",
   "execution_count": 38,
   "id": "bdfe2cb0-7231-422c-ac76-8c43bc23c44f",
   "metadata": {
    "tags": []
   },
   "outputs": [],
   "source": [
    "class Ship:\n",
    "    def __init__(self, size):  # Constructor to initialize a ship with a given size\n",
    "        \n",
    "        self.row = random.randrange(0, 9)  # Random row position (between 0 and 9)\n",
    "        self.col = random.randrange(0, 9)  # Random column position (between 0 and 9)\n",
    "        \n",
    "        self.size = size  # The size of the ship (number of grid squares it occupies)\n",
    "        \n",
    "        self.orientation = random.choice([\"h\", \"v\"])  # Randomly choose the orientation: \"h\" for horizontal, \"v\" for vertical\n",
    "        \n",
    "        self.indexes = self.compute_indexes()  # Call method to compute the indexes of the ship's positions\n",
    "        \n",
    "    def compute_indexes(self):  # Compute the grid indexes where the ship will be placed\n",
    "        start_index = self.row * 10 + self.col  # Starting index based on row and column\n",
    "        if self.orientation == 'h':  # If the ship is placed horizontally\n",
    "            return [start_index + i for i in range(self.size)]  # Generate horizontal positions\n",
    "        elif self.orientation == \"v\":  # If the ship is placed vertically\n",
    "            return [start_index + i * 10 for i in range(self.size)]  # Generate vertical positions\n"
   ]
  },
  {
   "cell_type": "markdown",
   "id": "3b0c4c36-6f67-4ce5-ad8a-dc10e106f109",
   "metadata": {},
   "source": [
    "# Drawing Ships on a Grid\n",
    " \n",
    "**Before diving into the code, let’s visualize the grid**\n",
    "\n",
    "- Imagine a chessboard where each square represents a possible position for a ship.\n",
    "\n",
    "- Each square has a fixed size, defined by SQ_SIZE (e.g., 50 pixels).\n",
    "\n",
    "- Ships can be placed horizontally (left to right) or vertically (top to bottom).\n",
    "\n",
    "The grid is like a map, and the ships are like objects placed on that map. Our goal is to draw these ships in the correct positions.\n",
    "In this code, we are creating a function called `draw_ships` that will draw ships onto a grid. This grid represents a player's game board, and the ships are placed on this board. Let's break down the code step by step to understand how it works."
   ]
  },
  {
   "cell_type": "code",
   "execution_count": 39,
   "id": "a54fcb07-eeec-4db8-8505-8c3ae4103c98",
   "metadata": {
    "tags": []
   },
   "outputs": [],
   "source": [
    "# Function to draw ships onto the position grids\n",
    "def draw_ships(player, left=0, top=0):\n",
    "    for ship in player.ships:  # Loop through each ship in the player's list of ships\n",
    "        x = left + ship.col * SQ_SIZE + INDENT  # Calculate the x position for the ship\n",
    "        y = top + ship.row * SQ_SIZE + INDENT  # Calculate the y position for the ship\n",
    "        \n",
    "        if ship.orientation == \"h\":  # If the ship is horizontal\n",
    "            width = ship.size * SQ_SIZE - 2 * INDENT  # The width of the ship (size times square size, minus margins)\n",
    "            height = SQ_SIZE - 2 * INDENT  # The height of the ship (equal to the size of one square, minus margins)\n",
    "        else:  # If the ship is vertical\n",
    "            width = SQ_SIZE - 2 * INDENT  # The width of the ship (equal to the size of one square, minus margins)\n",
    "            height = ship.size * SQ_SIZE - 2 * INDENT  # The height of the ship (size times square size, minus margins)\n",
    "        \n",
    "        rectangle = pygame.Rect(x, y, width, height)  # Create a rectangle for the ship's area\n",
    "        pygame.draw.rect(SCREEN, GREEN, rectangle, border_radius=15)  # Draw the rectangle with rounded corners"
   ]
  },
  {
   "cell_type": "markdown",
   "id": "52caaeb9-067a-4f32-847e-fde4c589b420",
   "metadata": {},
   "source": [
    "## The Player Class\n",
    "\n",
    "The **Player class** encapsulates everything related to a player in the game. It tracks critical game elements such as the player's ships, their positions on the grid, and the state of the player’s search grid (which records where the player has targeted and whether they've hit or missed enemy ships). Below is a detailed breakdown of the class and its key components.\n",
    "\n",
    "### Key Responsibilities of the Player Class:\n",
    "1. **Managing Ships:** Each player has a set of ships placed on the grid. The class stores information about the ships' positions and sizes.\n",
    "2. **Tracking Search Grid:** The class maintains a grid that records the player's attempts to search for enemy ships. This grid is updated with hits, misses, or sunk ships.\n",
    "3. **Ship Sinking Logic:** It tracks whether a ship has been sunk based on the player's search grid and updates the status accordingly.\n"
   ]
  },
  {
   "cell_type": "code",
   "execution_count": 40,
   "id": "db554f66-8852-44fb-b88e-3adacca3658a",
   "metadata": {
    "tags": []
   },
   "outputs": [],
   "source": [
    "class Player:\n",
    "    def __init__(self):\n",
    "        self.ships = []\n",
    "        self.search = [\"U\" for i in range(100)] #U for unknown \n",
    "        self.place_ships(sizes = {5, 4, 3, 3, 2})\n",
    "        list_of_lists = [ship.indexes for ship in self.ships]\n",
    "        self.indexes = [index for sublist in list_of_lists for index in sublist]\n",
    "        \n",
    "    def place_ships(self, sizes):\n",
    "        for size in sizes:\n",
    "            placed = False\n",
    "            while not placed:\n",
    "                #create a new ship\n",
    "                ship = Ship(size)\n",
    "                \n",
    "                #check if placement is possible\n",
    "                possible = True\n",
    "                for i in ship.indexes: \n",
    "                    #indexes must be < 100:\n",
    "                    if i >= 100:\n",
    "                        possible = False\n",
    "                        break\n",
    "                        \n",
    "                    #ships cannot behave like snakes\n",
    "                    new_row = i // 10\n",
    "                    new_col = i % 10\n",
    "                    if new_row != ship.row and new_col != ship.col:\n",
    "                        possible = False \n",
    "                        break \n",
    "                    \n",
    "                    #ships cannot intersect   \n",
    "                    for other_ship in self.ships:\n",
    "                        if i in other_ship.indexes:\n",
    "                            possible = False\n",
    "                            break\n",
    "                #place the ship            \n",
    "                if possible:\n",
    "                    self.ships.append(ship)\n",
    "                    placed = True\n",
    "                    \n",
    "    def show_ships(self):\n",
    "        indexes = [\"-\" if i not in self.indexes else \"X\" for i in range(100)]\n",
    "        for row in range(10):\n",
    "            print(\" \".join(indexes[(row-1)*10: row*10]))"
   ]
  },
  {
   "cell_type": "markdown",
   "id": "8a0a7acc-ab2b-49a1-b983-c1b003aef91c",
   "metadata": {},
   "source": [
    "## Game Class: Handling the Game Logic\n",
    "\n",
    "The `Game` class is responsible for managing the overall flow of the game, tracking player turns, making moves, and determining the game state. Below is a breakdown of the key components of the class.\n",
    "\n",
    "### 1. **Initialization (`__init__` method):**\n",
    "\n",
    "   - **Player Instances:**\n",
    "     - `self.player1 = Player()` and `self.player2 = Player()` create instances of the `Player` class, which represent the two players in the game. These instances will hold each player's ships, search grid, and other game-related information.\n",
    "\n",
    "   - **Player Turn Tracking:**\n",
    "     - `self.player1_turn = True` is a boolean variable that keeps track of whose turn it is. Initially, Player 1 is set to take the first turn.\n",
    "\n",
    "   - **Game Over and Result Flags:**\n",
    "     - `self.over = False` tracks whether the game is over.\n",
    "     - `self.result = None` is used to store the result of the game (e.g., who won).\n",
    "\n",
    "### 2. **Making a Move (`make_move` method):**\n",
    "\n",
    "   The `make_move` method processes a player's move by updating the search grid and checking for hits, misses, and sunk ships.\n",
    "\n",
    "   - **Determine Active Player and Opponent:**\n",
    "     - The current player is determined based on the `player1_turn` boolean: `player = self.player1 if self.player1_turn else self.player2`.\n",
    "     - The opponent is also determined similarly: `opponent = self.player2 if self.player1_turn else self.player1`.\n",
    "\n",
    "   - **Hit or Miss:**\n",
    "     - The `hit = False` flag is initialized but isn't used directly here.\n",
    "     - If the selected square (`i`) is in the opponent's list of ship indexes, it is marked as a hit (`\"H\"`) on the player's search grid.\n",
    "     - If the selected square is not part of the opponent's ships, it is marked as a miss (`\"M\"`) on the player's search grid.\n",
    "\n",
    "   - **Ship Sinking Check:**\n",
    "     - If a hit occurs, the code checks if any of the opponent's ships are sunk. A ship is considered sunk if all of its indexes are marked as hits (`\"H\"`).\n",
    "     - If a ship is sunk, all its indexes are updated to `\"S\"` (sunk).\n",
    "\n",
    "   - **Switch Turn:**\n",
    "     - After processing the move, the active player's turn is switched by toggling the `player1_turn` boolean: `self.player1_turn = not self.player1_turn`.\n",
    "\n",
    "\n",
    "The `Game` class serves as the central controller for handling player actions and determining the game's progression. It manages alternating turns, updates the game state (hit, miss, sunk ships), and eventually determines when the game is over (though the `over` flag and result calculation are not implemented in this snippet).\n",
    "\n"
   ]
  },
  {
   "cell_type": "code",
   "execution_count": 41,
   "id": "88eb63de-b2b1-4035-b978-b013742b00e4",
   "metadata": {
    "tags": []
   },
   "outputs": [],
   "source": [
    "class Game:\n",
    "    def __init__(self):\n",
    "        \n",
    "        #These are instances of the Player class, representing the two players in the game.\n",
    "        self.player1 = Player() \n",
    "        self.player2 = Player()\n",
    "        \n",
    "        #This boolean variable keeps track of whose turn it is\n",
    "        self.player1_turn = True\n",
    "        \n",
    "        self.over = False\n",
    "        self.result = None\n",
    "   \n",
    "    #defining whose move it is    \n",
    "    def make_move(self, i):\n",
    "        player = self.player1 if self.player1_turn else self.player2\n",
    "        opponent = self.player2 if self.player1_turn else self.player1\n",
    "        hit = False\n",
    "        \n",
    "        #set miss \"M\" or hit \"H\"\n",
    "        if i in opponent.indexes:\n",
    "            player.search[i] = \"H\"\n",
    "            \n",
    "            #check if ship sunk\n",
    "            for ship in opponent.ships:\n",
    "                sunk = True\n",
    "                for i in ship.indexes:\n",
    "                    if player.search[i] == \"U\":\n",
    "                        sunk = False\n",
    "                        break\n",
    "                if sunk:\n",
    "                    for i in ship.indexes:\n",
    "                        player.search[i] = \"S\"\n",
    "                        break\n",
    "\n",
    "        #if the guess is a miss\n",
    "        else:\n",
    "            player.search[i] = \"M\"\n",
    "            \n",
    "        # change the active player \n",
    "        self.player1_turn = not self.player1_turn"
   ]
  },
  {
   "cell_type": "markdown",
   "id": "d5ce6f6a-abb2-4b76-a4d6-8cba00a6b109",
   "metadata": {},
   "source": [
    "## Game Loops in Action\n",
    "\n",
    "In game development, the **game loop** is the heart of the game. It repeatedly handles user inputs, updates the game state, and renders the visuals on the screen. The loop continues until the game ends, ensuring an interactive experience.\n",
    "\n",
    "### 1. **Process Input:**\n",
    "\n",
    "   The game loop starts by processing user input, which is usually done by listening to events. In the provided code, this happens in the `for event in pygame.event.get()` loop. The input processed here includes:\n",
    "   \n",
    "   - **Mouse Clicks (`MOUSEBUTTONDOWN`):** The user can click on the game grid to make a move. Based on the coordinates of the mouse click, the game decides whether the player is interacting with their own grid or their opponent's grid.\n",
    "   - **Key Presses (`KEYDOWN`):** The game listens for keyboard events such as:\n",
    "     - **Escape Key (`K_ESCAPE`)** to close the game.\n",
    "     - **Space Bar (`K_SPACE`)** to pause or unpause the game.\n",
    "\n",
    "   The input here triggers updates to the game state, such as changing whose turn it is or processing the player’s move.\n",
    "\n",
    "### 2. **Update Game State:**\n",
    "\n",
    "   Once the input is processed, the game state needs to be updated based on the input and the rules of the game. This is done in the `make_move` method, which updates the search grid of the current player, marks hits and misses, checks if any ships are sunk, and switches the turn between the two players.\n",
    "   \n",
    "   - **Making a Move:** The player’s move is processed (hit or miss), and the game checks if any of the opponent's ships are sunk after a hit.\n",
    "   - **Switching Turns:** After a move is made, the game switches the active player, making the game alternate between Player 1 and Player 2.\n",
    "\n",
    "   The game state is updated by altering the `search` grid of each player (either marking it with `\"H\"` for hit, `\"M\"` for miss, or `\"S\"` for sunk).\n",
    "\n",
    "### 3. **Render:**\n",
    "\n",
    "   After the game state is updated, the next step is to render the game state to the screen, making the game visually interactive. In the provided code, this is done in the following lines:\n",
    "\n",
    "   - **Draw Background:** The screen is filled with a grey background (`SCREEN.fill(GREY)`).\n",
    "   - **Draw Grids:** The search grids of both players are drawn in their respective locations. Each player has a search grid and a position grid.\n",
    "   - **Draw Ships:** Ships are drawn on the position grids to represent where the ships are placed for each player.\n",
    "   - **Update the Screen:** After everything is drawn, `pygame.display.flip()` updates the screen to show the latest changes.\n",
    "\n",
    "### 4. **Loop Continuation:**\n",
    "\n",
    "   These steps (processing input, updating the game state, and rendering) are executed repeatedly inside the game loop until the game ends. The loop will continue to run as long as the game is not paused or closed, ensuring a continuous and dynamic gameplay experience.\n",
    "\n"
   ]
  },
  {
   "cell_type": "code",
   "execution_count": 42,
   "id": "6a2a8b68-e3d6-4187-9e26-c8db3cc73235",
   "metadata": {
    "tags": []
   },
   "outputs": [],
   "source": [
    "game = Game() #call our Game class from before                           \n",
    "\n",
    "# Pygame loop\n",
    "animating = True\n",
    "pausing = False"
   ]
  },
  {
   "cell_type": "markdown",
   "id": "17619589-2d2b-4f3c-9b1a-9e8e3b8548c6",
   "metadata": {},
   "source": [
    "## Pygame Animation with User Interaction\n",
    "\n",
    "### Event Handling\n",
    "The code begins by checking for different types of events during the animation loop:\n",
    "\n",
    "#### 1. **Handling Window Closure:**\n",
    "   - The program listens for the `QUIT` event, which happens when the user closes the window. If this event is triggered, the `animating` variable is set to `False`, stopping the animation.\n",
    "\n",
    "#### 2. **Handling Mouse Clicks:**\n",
    "   - The program also listens for mouse button events. When the mouse is clicked (`MOUSEBUTTONDOWN`), it tracks the mouse's coordinates (`x`, `y`).\n",
    "   - Based on the player's turn, it determines if the mouse click is within the player's grid:\n",
    "     - **Player 1's Grid:** The click is checked to ensure it falls within the bounds of Player 1’s search grid (top left corner).\n",
    "     - **Player 2's Grid:** Similarly, the click is checked for Player 2’s grid (bottom right corner).\n",
    "   - After determining which grid is clicked, the program calculates the row and column of the clicked square, then converts the position into an index using the formula: `index = row * 10 + col`. This index is then passed to `game.make_move()` to update the game state.\n",
    "\n",
    "#### 3. **Handling Keyboard Events:**\n",
    "   - The program also listens for key presses, such as:\n",
    "     - **Escape Key (`K_ESCAPE`)**: When pressed, the animation stops by setting `animating = False`.\n",
    "     - **Space Bar (`K_SPACE`)**: Toggles the `pausing` state between `True` and `False`, which pauses or unpauses the game.\n",
    "\n",
    "### Animation and Drawing\n",
    "If the game is not paused (`pausing = False`), the animation continues:\n",
    "\n",
    "#### 1. **Drawing the Background:**\n",
    "   - The screen is filled with a grey background color: `SCREEN.fill(GREY)`.\n",
    "\n",
    "#### 2. **Drawing the Grids:**\n",
    "   - The grids for both players are drawn in different sections of the screen:\n",
    "     - **Player 1's Search Grid:** The search grid for Player 1 is drawn at the top-left corner.\n",
    "     - **Player 2's Search Grid:** The search grid for Player 2 is drawn at the bottom-right corner.\n",
    "   - **Player 1's Position Grid:** This grid is drawn at the top-right corner.\n",
    "   - **Player 2's Position Grid:** This grid is drawn at the bottom-left corner.\n",
    "\n",
    "#### 3. **Drawing Ships:**\n",
    "   - The ships for both players are drawn on their respective position grids:\n",
    "     - **Player 1's Ships:** The ships are drawn on Player 1’s position grid (top-right).\n",
    "     - **Player 2's Ships:** The ships are drawn on Player 2’s position grid (bottom-left).\n",
    "\n",
    "#### 4. **Updating the Screen:**\n",
    "   - After everything is drawn, the screen is updated using `pygame.display.flip()`, which updates the display to reflect the latest changes.\n",
    "\n",
    "This loop runs continuously, handling user inputs and updating the game state. The animation continues until the user closes the window or pauses the game.\n",
    "\n"
   ]
  },
  {
   "cell_type": "code",
   "execution_count": 43,
   "id": "815e4397-ec98-461d-b466-59aaa8dc1425",
   "metadata": {
    "tags": []
   },
   "outputs": [],
   "source": [
    "while animating:\n",
    "    # To track user interaction\n",
    "    for event in pygame.event.get():\n",
    "        \n",
    "        # user closes the window                                      \n",
    "        if event.type == pygame.QUIT:\n",
    "            animating = False  # Set this to False when user closes the window\n",
    "                                              \n",
    "        # user clicks on mouse\n",
    "        if event.type == pygame.MOUSEBUTTONDOWN:\n",
    "            # Get mouse position\n",
    "            x, y = pygame.mouse.get_pos()\n",
    "            \n",
    "            # If it's Player 1's turn and the mouse is in the correct area\n",
    "            if game.player1_turn and x < SQ_SIZE * 10 and y < SQ_SIZE * 10: \n",
    "                # Calculate row and column based on mouse position\n",
    "                row = y // SQ_SIZE  # Calculate row based on the y position and SQ_SIZE\n",
    "                col = x // SQ_SIZE  # Calculate column based on the x position and SQ_SIZE\n",
    "                index = row * 10 + col  # Calculate index based on row and col\n",
    "                game.make_move(index)  # Call the make_move function for Player 1\n",
    "                \n",
    "            # If it's Player 2's turn and the mouse is in the correct area\n",
    "            elif not game.player1_turn and x > WIDTH - SQ_SIZE * 10 and y > SQ_SIZE * 10 + V_MARGIN:\n",
    "                # Calculate row and column based on mouse position\n",
    "                row = (y - SQ_SIZE * 10 - V_MARGIN) // SQ_SIZE # Calculate row for Player 2\n",
    "                col = (x - SQ_SIZE * 10 - H_MARGIN) // SQ_SIZE # Calculate column for Player 2\n",
    "                index = row * 10 + col  # Calculate index for Player 2\n",
    "                game.make_move(index)  # Call the make_move function for Player 2\n",
    "                \n",
    "        # User presses key on keyboard\n",
    "        if event.type == pygame.KEYDOWN:\n",
    "            # Escape key to close the animation\n",
    "            if event.key == pygame.K_ESCAPE:\n",
    "                animating = False  # Exit the game when the Escape key is pressed\n",
    "\n",
    "            # Space bar to pause and unpause\n",
    "            if event.key == pygame.K_SPACE:\n",
    "                pausing = not pausing  # Toggle pausing state when Spacebar is pressed\n",
    "\n",
    "    # If the game is not paused, continue with the animation\n",
    "    if not pausing:\n",
    "        # draw background\n",
    "        SCREEN.fill(GREY)  # Fill the screen with a grey background\n",
    "\n",
    "        # draw search grids for both players\n",
    "        draw_grid(game.player1, search=True)  # Draw search grid for Player 1 (top left)\n",
    "        draw_grid(game.player2, search=True, left=(WIDTH - H_MARGIN) // 2 + H_MARGIN, \n",
    "                  top=(HEIGHT - V_MARGIN) // 2 + V_MARGIN)  # Draw search grid for Player 2 (bottom right)\n",
    "        \n",
    "        # draw position grids for both players\n",
    "        draw_grid(game.player1, left=((WIDTH - H_MARGIN) // 2 + H_MARGIN))  # Draw position grid for Player 1 (top right)\n",
    "        draw_grid(game.player2, top=(HEIGHT - V_MARGIN) // 2 + V_MARGIN)  # Draw position grid for Player 2 (bottom left)\n",
    "        \n",
    "        # draw ships onto position grids for both players\n",
    "        draw_ships(game.player1, top=(HEIGHT - V_MARGIN) // 2 + V_MARGIN)  # Draw ships for Player 1\n",
    "        draw_ships(game.player2, left=((WIDTH - H_MARGIN) // 2 + H_MARGIN))  # Draw ships for Player 2\n",
    "        \n",
    "        # Update the screen with the new drawing\n",
    "        pygame.display.flip()  # This updates the window with everything drawn so far\n"
   ]
  },
  {
   "cell_type": "code",
   "execution_count": null,
   "id": "aeae4de4-5283-4550-87f5-a8bcbec7ebe5",
   "metadata": {},
   "outputs": [],
   "source": []
  }
 ],
 "metadata": {
  "kernelspec": {
   "display_name": "base",
   "language": "python",
   "name": "python3"
  },
  "language_info": {
   "codemirror_mode": {
    "name": "ipython",
    "version": 3
   },
   "file_extension": ".py",
   "mimetype": "text/x-python",
   "name": "python",
   "nbconvert_exporter": "python",
   "pygments_lexer": "ipython3",
   "version": "3.12.2"
  }
 },
 "nbformat": 4,
 "nbformat_minor": 5
}
